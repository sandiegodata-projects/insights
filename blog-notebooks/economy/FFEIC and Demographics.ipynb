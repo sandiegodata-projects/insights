{
 "cells": [
  {
   "cell_type": "raw",
   "metadata": {
    "tags": [
     "frontmatter"
    ]
   },
   "source": [
    "\n",
    "show_input: show\n",
    "github: https://github.com/sandiegodata-projects/insights.sandiegodata.org/blob/main/blog-notebooks/economy/FFEIC%20and%20Demographics.ipynb\n",
    "authors:\n",
    "- email: eric@civicknowledge.com\n",
    "  name: Eric Busboom\n",
    "  organization: Civic Knowledge\n",
    "  type: Analyst\n",
    "tags:\n",
    "- ffiec\n",
    "- cra\n",
    "categories:\n",
    "- Economy\n",
    "identifier: 403069d0-1f6f-47be-8fee-6f555291851A"
   ]
  },
  {
   "cell_type": "code",
   "execution_count": 4,
   "metadata": {},
   "outputs": [],
   "source": [
    "\n",
    "%matplotlib inline\n",
    "\n",
    "import pandas as pd\n",
    "import geopandas as gpd\n",
    "import numpy as np\n",
    "import metapack as mp\n",
    "import matplotlib.pyplot as plt\n",
    "import rowgenerators as rg\n",
    "import seaborn as sns\n",
    "#from sdipylib.geo import *\n",
    "sns.set(color_codes=True)\n",
    "\n",
    "from pkg_resources import get_distribution\n",
    "assert get_distribution('publicdata').version >= '0.2.2'\n"
   ]
  },
  {
   "cell_type": "markdown",
   "metadata": {
    "tags": [
     "Title"
    ]
   },
   "source": [
    "# Basic CRA Demographics Analysis Example"
   ]
  },
  {
   "cell_type": "markdown",
   "metadata": {
    "tags": [
     "Description"
    ]
   },
   "source": [
    "This notebook is a demonstration of how to combine FFIEC records of business loans with census data and display the data in a variety of type of maps. The demonstration will cover using Metatab and Metapack to access data, creating maps with GeoPandas, and creating zoomable maps with a basemap using folium. "
   ]
  },
  {
   "cell_type": "markdown",
   "metadata": {},
   "source": [
    "This demonstration will focus on mapping, so if you'd like a more complete tutorial on using Metapack and Census data, please refer to the [American Community Survey tutorial notebook.](http://kb.sandiegodata.org/notebooks/american-community-survey-demonstration/)\n",
    "\n",
    "First, we'll add a Metatab configuration that defines the references to the data we'll use, which include: \n",
    "\n",
    "* An ACS Table for counts of people by race in tracts in San Diego county\n",
    "* Tract grographic boundaries for San DIego County\n",
    "* A Metapack package for CRA Business loan originations. \n",
    "\n",
    "The  [American Community Survey tutorial notebook.](http://kb.sandiegodata.org/notebooks/american-community-survey-demonstration/) has more information about the structure of the Metatab configuration, and the CRA Loan dataset is available in a friendly form at the [Data Library's data repository](http://data.sandiegodata.org/dataset/ffiec-gov-cra_aggregate_smb-orig).\n",
    "\n",
    "Note that to run this notebook, you will need to install these python packages:\n",
    "\n",
    "```\n",
    "jupyter\n",
    "pandas\n",
    "geopandas\n",
    "matplotlib\n",
    "seaborn\n",
    "publicdata\n",
    "sdipylib\n",
    "```"
   ]
  },
  {
   "cell_type": "code",
   "execution_count": 14,
   "metadata": {},
   "outputs": [],
   "source": [
    "\n",
    "# Table B02001: Race, by tract, in San Diego County\n",
    "B02001 = rg.dataframe('census:2018/5/CA/tract/B02001').query(\"county == '073'\")\n",
    "B02001g = rg.geoframe('census:2018/5/CA/tract') .query(\"countyfp == '073'\")\n"
   ]
  },
  {
   "cell_type": "code",
   "execution_count": 15,
   "metadata": {},
   "outputs": [
    {
     "data": {
      "text/html": [
       "<div>\n",
       "<style scoped>\n",
       "    .dataframe tbody tr th:only-of-type {\n",
       "        vertical-align: middle;\n",
       "    }\n",
       "\n",
       "    .dataframe tbody tr th {\n",
       "        vertical-align: top;\n",
       "    }\n",
       "\n",
       "    .dataframe thead th {\n",
       "        text-align: right;\n",
       "    }\n",
       "</style>\n",
       "<table border=\"1\" class=\"dataframe\">\n",
       "  <thead>\n",
       "    <tr style=\"text-align: right;\">\n",
       "      <th></th>\n",
       "      <th>statefp</th>\n",
       "      <th>countyfp</th>\n",
       "      <th>tractce</th>\n",
       "      <th>geoid</th>\n",
       "      <th>name</th>\n",
       "      <th>namelsad</th>\n",
       "      <th>mtfcc</th>\n",
       "      <th>funcstat</th>\n",
       "      <th>aland</th>\n",
       "      <th>awater</th>\n",
       "      <th>intptlat</th>\n",
       "      <th>intptlon</th>\n",
       "      <th>geometry</th>\n",
       "    </tr>\n",
       "  </thead>\n",
       "  <tbody>\n",
       "    <tr>\n",
       "      <th>165</th>\n",
       "      <td>06</td>\n",
       "      <td>073</td>\n",
       "      <td>008331</td>\n",
       "      <td>14000US06073008331</td>\n",
       "      <td>83.31</td>\n",
       "      <td>Census Tract 83.31</td>\n",
       "      <td>G5020</td>\n",
       "      <td>S</td>\n",
       "      <td>954205</td>\n",
       "      <td>0</td>\n",
       "      <td>+32.9426037</td>\n",
       "      <td>-117.2241058</td>\n",
       "      <td>POLYGON ((-117.23082 32.94176, -117.23079 32.9...</td>\n",
       "    </tr>\n",
       "    <tr>\n",
       "      <th>166</th>\n",
       "      <td>06</td>\n",
       "      <td>073</td>\n",
       "      <td>008336</td>\n",
       "      <td>14000US06073008336</td>\n",
       "      <td>83.36</td>\n",
       "      <td>Census Tract 83.36</td>\n",
       "      <td>G5020</td>\n",
       "      <td>S</td>\n",
       "      <td>828562</td>\n",
       "      <td>0</td>\n",
       "      <td>+32.9678415</td>\n",
       "      <td>-117.1331584</td>\n",
       "      <td>POLYGON ((-117.13793 32.96927, -117.13792 32.9...</td>\n",
       "    </tr>\n",
       "    <tr>\n",
       "      <th>167</th>\n",
       "      <td>06</td>\n",
       "      <td>073</td>\n",
       "      <td>008337</td>\n",
       "      <td>14000US06073008337</td>\n",
       "      <td>83.37</td>\n",
       "      <td>Census Tract 83.37</td>\n",
       "      <td>G5020</td>\n",
       "      <td>S</td>\n",
       "      <td>1566257</td>\n",
       "      <td>0</td>\n",
       "      <td>+32.9583944</td>\n",
       "      <td>-117.1357871</td>\n",
       "      <td>POLYGON ((-117.14630 32.95553, -117.14625 32.9...</td>\n",
       "    </tr>\n",
       "    <tr>\n",
       "      <th>168</th>\n",
       "      <td>06</td>\n",
       "      <td>073</td>\n",
       "      <td>011601</td>\n",
       "      <td>14000US06073011601</td>\n",
       "      <td>116.01</td>\n",
       "      <td>Census Tract 116.01</td>\n",
       "      <td>G5020</td>\n",
       "      <td>S</td>\n",
       "      <td>733715</td>\n",
       "      <td>0</td>\n",
       "      <td>+32.6663314</td>\n",
       "      <td>-117.0964015</td>\n",
       "      <td>POLYGON ((-117.10356 32.66720, -117.10314 32.6...</td>\n",
       "    </tr>\n",
       "    <tr>\n",
       "      <th>169</th>\n",
       "      <td>06</td>\n",
       "      <td>073</td>\n",
       "      <td>011602</td>\n",
       "      <td>14000US06073011602</td>\n",
       "      <td>116.02</td>\n",
       "      <td>Census Tract 116.02</td>\n",
       "      <td>G5020</td>\n",
       "      <td>S</td>\n",
       "      <td>1006599</td>\n",
       "      <td>14299</td>\n",
       "      <td>+32.6599903</td>\n",
       "      <td>-117.0941732</td>\n",
       "      <td>POLYGON ((-117.10154 32.66202, -117.10133 32.6...</td>\n",
       "    </tr>\n",
       "    <tr>\n",
       "      <th>...</th>\n",
       "      <td>...</td>\n",
       "      <td>...</td>\n",
       "      <td>...</td>\n",
       "      <td>...</td>\n",
       "      <td>...</td>\n",
       "      <td>...</td>\n",
       "      <td>...</td>\n",
       "      <td>...</td>\n",
       "      <td>...</td>\n",
       "      <td>...</td>\n",
       "      <td>...</td>\n",
       "      <td>...</td>\n",
       "      <td>...</td>\n",
       "    </tr>\n",
       "    <tr>\n",
       "      <th>7579</th>\n",
       "      <td>06</td>\n",
       "      <td>073</td>\n",
       "      <td>020214</td>\n",
       "      <td>14000US06073020214</td>\n",
       "      <td>202.14</td>\n",
       "      <td>Census Tract 202.14</td>\n",
       "      <td>G5020</td>\n",
       "      <td>S</td>\n",
       "      <td>1751495</td>\n",
       "      <td>0</td>\n",
       "      <td>+33.1270113</td>\n",
       "      <td>-117.0844242</td>\n",
       "      <td>POLYGON ((-117.09313 33.13176, -117.09306 33.1...</td>\n",
       "    </tr>\n",
       "    <tr>\n",
       "      <th>7580</th>\n",
       "      <td>06</td>\n",
       "      <td>073</td>\n",
       "      <td>000202</td>\n",
       "      <td>14000US06073000202</td>\n",
       "      <td>2.02</td>\n",
       "      <td>Census Tract 2.02</td>\n",
       "      <td>G5020</td>\n",
       "      <td>S</td>\n",
       "      <td>1306000</td>\n",
       "      <td>0</td>\n",
       "      <td>+32.7453947</td>\n",
       "      <td>-117.1751539</td>\n",
       "      <td>POLYGON ((-117.18404 32.74571, -117.18383 32.7...</td>\n",
       "    </tr>\n",
       "    <tr>\n",
       "      <th>7581</th>\n",
       "      <td>06</td>\n",
       "      <td>073</td>\n",
       "      <td>002712</td>\n",
       "      <td>14000US06073002712</td>\n",
       "      <td>27.12</td>\n",
       "      <td>Census Tract 27.12</td>\n",
       "      <td>G5020</td>\n",
       "      <td>S</td>\n",
       "      <td>2194501</td>\n",
       "      <td>0</td>\n",
       "      <td>+32.7297628</td>\n",
       "      <td>-117.0732171</td>\n",
       "      <td>POLYGON ((-117.08495 32.72367, -117.08476 32.7...</td>\n",
       "    </tr>\n",
       "    <tr>\n",
       "      <th>7584</th>\n",
       "      <td>06</td>\n",
       "      <td>073</td>\n",
       "      <td>003305</td>\n",
       "      <td>14000US06073003305</td>\n",
       "      <td>33.05</td>\n",
       "      <td>Census Tract 33.05</td>\n",
       "      <td>G5020</td>\n",
       "      <td>S</td>\n",
       "      <td>1289458</td>\n",
       "      <td>0</td>\n",
       "      <td>+32.6978827</td>\n",
       "      <td>-117.0900666</td>\n",
       "      <td>POLYGON ((-117.09511 32.70412, -117.09492 32.7...</td>\n",
       "    </tr>\n",
       "    <tr>\n",
       "      <th>7644</th>\n",
       "      <td>06</td>\n",
       "      <td>073</td>\n",
       "      <td>016607</td>\n",
       "      <td>14000US06073016607</td>\n",
       "      <td>166.07</td>\n",
       "      <td>Census Tract 166.07</td>\n",
       "      <td>G5020</td>\n",
       "      <td>S</td>\n",
       "      <td>3970729</td>\n",
       "      <td>130472</td>\n",
       "      <td>+32.8524426</td>\n",
       "      <td>-116.9613512</td>\n",
       "      <td>POLYGON ((-116.97106 32.85892, -116.97106 32.8...</td>\n",
       "    </tr>\n",
       "  </tbody>\n",
       "</table>\n",
       "<p>628 rows × 13 columns</p>\n",
       "</div>"
      ],
      "text/plain": [
       "     statefp countyfp tractce               geoid    name  \\\n",
       "165       06      073  008331  14000US06073008331   83.31   \n",
       "166       06      073  008336  14000US06073008336   83.36   \n",
       "167       06      073  008337  14000US06073008337   83.37   \n",
       "168       06      073  011601  14000US06073011601  116.01   \n",
       "169       06      073  011602  14000US06073011602  116.02   \n",
       "...      ...      ...     ...                 ...     ...   \n",
       "7579      06      073  020214  14000US06073020214  202.14   \n",
       "7580      06      073  000202  14000US06073000202    2.02   \n",
       "7581      06      073  002712  14000US06073002712   27.12   \n",
       "7584      06      073  003305  14000US06073003305   33.05   \n",
       "7644      06      073  016607  14000US06073016607  166.07   \n",
       "\n",
       "                 namelsad  mtfcc funcstat    aland  awater     intptlat  \\\n",
       "165    Census Tract 83.31  G5020        S   954205       0  +32.9426037   \n",
       "166    Census Tract 83.36  G5020        S   828562       0  +32.9678415   \n",
       "167    Census Tract 83.37  G5020        S  1566257       0  +32.9583944   \n",
       "168   Census Tract 116.01  G5020        S   733715       0  +32.6663314   \n",
       "169   Census Tract 116.02  G5020        S  1006599   14299  +32.6599903   \n",
       "...                   ...    ...      ...      ...     ...          ...   \n",
       "7579  Census Tract 202.14  G5020        S  1751495       0  +33.1270113   \n",
       "7580    Census Tract 2.02  G5020        S  1306000       0  +32.7453947   \n",
       "7581   Census Tract 27.12  G5020        S  2194501       0  +32.7297628   \n",
       "7584   Census Tract 33.05  G5020        S  1289458       0  +32.6978827   \n",
       "7644  Census Tract 166.07  G5020        S  3970729  130472  +32.8524426   \n",
       "\n",
       "          intptlon                                           geometry  \n",
       "165   -117.2241058  POLYGON ((-117.23082 32.94176, -117.23079 32.9...  \n",
       "166   -117.1331584  POLYGON ((-117.13793 32.96927, -117.13792 32.9...  \n",
       "167   -117.1357871  POLYGON ((-117.14630 32.95553, -117.14625 32.9...  \n",
       "168   -117.0964015  POLYGON ((-117.10356 32.66720, -117.10314 32.6...  \n",
       "169   -117.0941732  POLYGON ((-117.10154 32.66202, -117.10133 32.6...  \n",
       "...            ...                                                ...  \n",
       "7579  -117.0844242  POLYGON ((-117.09313 33.13176, -117.09306 33.1...  \n",
       "7580  -117.1751539  POLYGON ((-117.18404 32.74571, -117.18383 32.7...  \n",
       "7581  -117.0732171  POLYGON ((-117.08495 32.72367, -117.08476 32.7...  \n",
       "7584  -117.0900666  POLYGON ((-117.09511 32.70412, -117.09492 32.7...  \n",
       "7644  -116.9613512  POLYGON ((-116.97106 32.85892, -116.97106 32.8...  \n",
       "\n",
       "[628 rows x 13 columns]"
      ]
     },
     "execution_count": 15,
     "metadata": {},
     "output_type": "execute_result"
    }
   ],
   "source": [
    "B02001g"
   ]
  },
  {
   "cell_type": "markdown",
   "metadata": {},
   "source": [
    "# Getting Started: Processing Data\n",
    "\n",
    "Generally, the first parts of a Notebook should contain all of the data manipulations to get data sets combined, or or create new columns, and the the remainer of the notebook is the analysis. So, we will start by extracting data frames from the Metatab configuration. Recall from the  [American Community Survey tutorial notebook.](http://kb.sandiegodata.org/notebooks/american-community-survey-demonstration/)  that the ``%metatab`` cell creates the ``mt_pkg`` package variable, and from that package we can extract dataframes, for census data, and geoframes for geographic data.  \n"
   ]
  },
  {
   "cell_type": "markdown",
   "metadata": {},
   "source": [
    "Because the URL of the data frame ``B02001`` is special ( the ``censusreporter:`` scheme is defined in the ``publicdata`` package ) the resulting dataframe is of type ``publicdata.censusreporter.dataframe.CensusDataFrame``, it has a lot of special features, including a ``.title`` property that expands the column names to be more sensible. This view makes it easier to figure out what columns to incorporate in later analysis. "
   ]
  },
  {
   "cell_type": "code",
   "execution_count": 16,
   "metadata": {},
   "outputs": [
    {
     "data": {
      "text/html": [
       "<div>\n",
       "<style scoped>\n",
       "    .dataframe tbody tr th:only-of-type {\n",
       "        vertical-align: middle;\n",
       "    }\n",
       "\n",
       "    .dataframe tbody tr th {\n",
       "        vertical-align: top;\n",
       "    }\n",
       "\n",
       "    .dataframe thead th {\n",
       "        text-align: right;\n",
       "    }\n",
       "</style>\n",
       "<table border=\"1\" class=\"dataframe\">\n",
       "  <thead>\n",
       "    <tr style=\"text-align: right;\">\n",
       "      <th>geoid</th>\n",
       "      <th>14000US06073000100</th>\n",
       "      <th>14000US06073000201</th>\n",
       "    </tr>\n",
       "  </thead>\n",
       "  <tbody>\n",
       "    <tr>\n",
       "      <th>STUSAB</th>\n",
       "      <td>CA</td>\n",
       "      <td>CA</td>\n",
       "    </tr>\n",
       "    <tr>\n",
       "      <th>COUNTY</th>\n",
       "      <td>073</td>\n",
       "      <td>073</td>\n",
       "    </tr>\n",
       "    <tr>\n",
       "      <th>NAME</th>\n",
       "      <td>Census Tract 1, San Diego County, California</td>\n",
       "      <td>Census Tract 2.01, San Diego County, California</td>\n",
       "    </tr>\n",
       "    <tr>\n",
       "      <th>B02001_001  Total population  - Total</th>\n",
       "      <td>3250</td>\n",
       "      <td>1915</td>\n",
       "    </tr>\n",
       "    <tr>\n",
       "      <th>B02001_001_m90</th>\n",
       "      <td>380</td>\n",
       "      <td>189</td>\n",
       "    </tr>\n",
       "    <tr>\n",
       "      <th>B02001_002 Total population  - Total  - White alone</th>\n",
       "      <td>2916</td>\n",
       "      <td>1697</td>\n",
       "    </tr>\n",
       "    <tr>\n",
       "      <th>B02001_002_m90</th>\n",
       "      <td>402</td>\n",
       "      <td>201</td>\n",
       "    </tr>\n",
       "    <tr>\n",
       "      <th>B02001_003 Total population  - Total  - Black or African American alone</th>\n",
       "      <td>0</td>\n",
       "      <td>10</td>\n",
       "    </tr>\n",
       "    <tr>\n",
       "      <th>B02001_003_m90</th>\n",
       "      <td>12</td>\n",
       "      <td>15</td>\n",
       "    </tr>\n",
       "    <tr>\n",
       "      <th>B02001_004 Total population  - Total  - American Indian and Alaska Native alone</th>\n",
       "      <td>0</td>\n",
       "      <td>9</td>\n",
       "    </tr>\n",
       "    <tr>\n",
       "      <th>B02001_004_m90</th>\n",
       "      <td>12</td>\n",
       "      <td>14</td>\n",
       "    </tr>\n",
       "    <tr>\n",
       "      <th>B02001_005 Total population  - Total  - Asian alone</th>\n",
       "      <td>142</td>\n",
       "      <td>41</td>\n",
       "    </tr>\n",
       "    <tr>\n",
       "      <th>B02001_005_m90</th>\n",
       "      <td>85</td>\n",
       "      <td>43</td>\n",
       "    </tr>\n",
       "    <tr>\n",
       "      <th>B02001_006 Total population  - Total  - Native Hawaiian and Other Pacific Islander alone</th>\n",
       "      <td>16</td>\n",
       "      <td>0</td>\n",
       "    </tr>\n",
       "    <tr>\n",
       "      <th>B02001_006_m90</th>\n",
       "      <td>23</td>\n",
       "      <td>12</td>\n",
       "    </tr>\n",
       "    <tr>\n",
       "      <th>B02001_007 Total population  - Total  - Some other race alone</th>\n",
       "      <td>48</td>\n",
       "      <td>40</td>\n",
       "    </tr>\n",
       "    <tr>\n",
       "      <th>B02001_007_m90</th>\n",
       "      <td>42</td>\n",
       "      <td>37</td>\n",
       "    </tr>\n",
       "    <tr>\n",
       "      <th>B02001_008 Total population  - Total  - Two or more races</th>\n",
       "      <td>128</td>\n",
       "      <td>118</td>\n",
       "    </tr>\n",
       "    <tr>\n",
       "      <th>B02001_008_m90</th>\n",
       "      <td>77</td>\n",
       "      <td>93</td>\n",
       "    </tr>\n",
       "    <tr>\n",
       "      <th>B02001_009 Total population  - Total  - Two or more races  - Two races including Some other race</th>\n",
       "      <td>28</td>\n",
       "      <td>0</td>\n",
       "    </tr>\n",
       "    <tr>\n",
       "      <th>B02001_009_m90</th>\n",
       "      <td>38</td>\n",
       "      <td>12</td>\n",
       "    </tr>\n",
       "    <tr>\n",
       "      <th>B02001_010 Total population  - Total  - Two or more races  - Two races excluding Some other race and three or more races</th>\n",
       "      <td>100</td>\n",
       "      <td>118</td>\n",
       "    </tr>\n",
       "    <tr>\n",
       "      <th>B02001_010_m90</th>\n",
       "      <td>66</td>\n",
       "      <td>93</td>\n",
       "    </tr>\n",
       "  </tbody>\n",
       "</table>\n",
       "</div>"
      ],
      "text/plain": [
       "geoid                                                                         14000US06073000100  \\\n",
       "STUSAB                                                                                        CA   \n",
       "COUNTY                                                                                       073   \n",
       "NAME                                                Census Tract 1, San Diego County, California   \n",
       "B02001_001  Total population  - Total                                                       3250   \n",
       "B02001_001_m90                                                                               380   \n",
       "B02001_002 Total population  - Total  - White a...                                          2916   \n",
       "B02001_002_m90                                                                               402   \n",
       "B02001_003 Total population  - Total  - Black o...                                             0   \n",
       "B02001_003_m90                                                                                12   \n",
       "B02001_004 Total population  - Total  - America...                                             0   \n",
       "B02001_004_m90                                                                                12   \n",
       "B02001_005 Total population  - Total  - Asian a...                                           142   \n",
       "B02001_005_m90                                                                                85   \n",
       "B02001_006 Total population  - Total  - Native ...                                            16   \n",
       "B02001_006_m90                                                                                23   \n",
       "B02001_007 Total population  - Total  - Some ot...                                            48   \n",
       "B02001_007_m90                                                                                42   \n",
       "B02001_008 Total population  - Total  - Two or ...                                           128   \n",
       "B02001_008_m90                                                                                77   \n",
       "B02001_009 Total population  - Total  - Two or ...                                            28   \n",
       "B02001_009_m90                                                                                38   \n",
       "B02001_010 Total population  - Total  - Two or ...                                           100   \n",
       "B02001_010_m90                                                                                66   \n",
       "\n",
       "geoid                                                                            14000US06073000201  \n",
       "STUSAB                                                                                           CA  \n",
       "COUNTY                                                                                          073  \n",
       "NAME                                                Census Tract 2.01, San Diego County, California  \n",
       "B02001_001  Total population  - Total                                                          1915  \n",
       "B02001_001_m90                                                                                  189  \n",
       "B02001_002 Total population  - Total  - White a...                                             1697  \n",
       "B02001_002_m90                                                                                  201  \n",
       "B02001_003 Total population  - Total  - Black o...                                               10  \n",
       "B02001_003_m90                                                                                   15  \n",
       "B02001_004 Total population  - Total  - America...                                                9  \n",
       "B02001_004_m90                                                                                   14  \n",
       "B02001_005 Total population  - Total  - Asian a...                                               41  \n",
       "B02001_005_m90                                                                                   43  \n",
       "B02001_006 Total population  - Total  - Native ...                                                0  \n",
       "B02001_006_m90                                                                                   12  \n",
       "B02001_007 Total population  - Total  - Some ot...                                               40  \n",
       "B02001_007_m90                                                                                   37  \n",
       "B02001_008 Total population  - Total  - Two or ...                                              118  \n",
       "B02001_008_m90                                                                                   93  \n",
       "B02001_009 Total population  - Total  - Two or ...                                                0  \n",
       "B02001_009_m90                                                                                   12  \n",
       "B02001_010 Total population  - Total  - Two or ...                                              118  \n",
       "B02001_010_m90                                                                                   93  "
      ]
     },
     "execution_count": 16,
     "metadata": {},
     "output_type": "execute_result"
    }
   ],
   "source": [
    "B02001.titles.head(2).T"
   ]
  },
  {
   "cell_type": "markdown",
   "metadata": {},
   "source": [
    "In this case, we're going to create new variables for \"Minority\" and \"Non Minority\" where \"Non Minority\" is defined as White and Asian. "
   ]
  },
  {
   "cell_type": "code",
   "execution_count": 21,
   "metadata": {},
   "outputs": [
    {
     "ename": "AttributeError",
     "evalue": "'CensusSeries' object has no attribute 'parent_frame'",
     "output_type": "error",
     "traceback": [
      "\u001b[0;31m---------------------------------------------------------------------------\u001b[0m",
      "\u001b[0;31mAttributeError\u001b[0m                            Traceback (most recent call last)",
      "\u001b[0;32m<ipython-input-21-a8c2a6d4e2ff>\u001b[0m in \u001b[0;36m<module>\u001b[0;34m()\u001b[0m\n\u001b[0;32m----> 1\u001b[0;31m \u001b[0mB02001\u001b[0m\u001b[0;34m[\u001b[0m\u001b[0;34m'white_asian'\u001b[0m\u001b[0;34m]\u001b[0m\u001b[0;34m,\u001b[0m \u001b[0mB02001\u001b[0m\u001b[0;34m[\u001b[0m\u001b[0;34m'white_asian_m90'\u001b[0m\u001b[0;34m]\u001b[0m \u001b[0;34m=\u001b[0m \u001b[0mB02001\u001b[0m\u001b[0;34m.\u001b[0m\u001b[0msum_m\u001b[0m\u001b[0;34m(\u001b[0m\u001b[0;34m'b02001_002'\u001b[0m\u001b[0;34m,\u001b[0m \u001b[0;34m'b02001_005'\u001b[0m\u001b[0;34m)\u001b[0m\u001b[0;34m\u001b[0m\u001b[0;34m\u001b[0m\u001b[0m\n\u001b[0m\u001b[1;32m      2\u001b[0m \u001b[0mB02001\u001b[0m\u001b[0;34m[\u001b[0m\u001b[0;34m'minority'\u001b[0m\u001b[0;34m]\u001b[0m \u001b[0;34m=\u001b[0m \u001b[0mB02001\u001b[0m\u001b[0;34m.\u001b[0m\u001b[0mB02001_001\u001b[0m \u001b[0;34m-\u001b[0m \u001b[0mB02001\u001b[0m\u001b[0;34m.\u001b[0m\u001b[0mwhite_asian\u001b[0m\u001b[0;34m\u001b[0m\u001b[0;34m\u001b[0m\u001b[0m\n\u001b[1;32m      3\u001b[0m \u001b[0mB02001\u001b[0m\u001b[0;34m[\u001b[0m\u001b[0;34m'non_min_r'\u001b[0m\u001b[0;34m]\u001b[0m\u001b[0;34m,\u001b[0m \u001b[0mB02001\u001b[0m\u001b[0;34m[\u001b[0m\u001b[0;34m'non_min_r_m90'\u001b[0m\u001b[0;34m]\u001b[0m \u001b[0;34m=\u001b[0m \u001b[0mB02001\u001b[0m\u001b[0;34m.\u001b[0m\u001b[0mratio\u001b[0m\u001b[0;34m(\u001b[0m\u001b[0;34m'white_asian'\u001b[0m\u001b[0;34m,\u001b[0m \u001b[0;34m'b02001_001'\u001b[0m\u001b[0;34m)\u001b[0m\u001b[0;34m\u001b[0m\u001b[0;34m\u001b[0m\u001b[0m\n",
      "\u001b[0;32m~/proj/metatab-dev/metapack-dev/publicdata_census/src/publicdata/census/dataframe.py\u001b[0m in \u001b[0;36msum_m\u001b[0;34m(self, inplace, *cols)\u001b[0m\n\u001b[1;32m    193\u001b[0m         \u001b[0mestimates\u001b[0m \u001b[0;34m=\u001b[0m \u001b[0msum\u001b[0m\u001b[0;34m(\u001b[0m\u001b[0mcols\u001b[0m\u001b[0;34m)\u001b[0m\u001b[0;34m\u001b[0m\u001b[0;34m\u001b[0m\u001b[0m\n\u001b[1;32m    194\u001b[0m \u001b[0;34m\u001b[0m\u001b[0m\n\u001b[0;32m--> 195\u001b[0;31m         \u001b[0mmargins\u001b[0m \u001b[0;34m=\u001b[0m \u001b[0mnp\u001b[0m\u001b[0;34m.\u001b[0m\u001b[0msqrt\u001b[0m\u001b[0;34m(\u001b[0m\u001b[0msum\u001b[0m\u001b[0;34m(\u001b[0m\u001b[0mc\u001b[0m\u001b[0;34m.\u001b[0m\u001b[0mm90\u001b[0m \u001b[0;34m**\u001b[0m \u001b[0;36m2\u001b[0m \u001b[0;32mfor\u001b[0m \u001b[0mc\u001b[0m \u001b[0;32min\u001b[0m \u001b[0mcols\u001b[0m\u001b[0;34m)\u001b[0m\u001b[0;34m)\u001b[0m\u001b[0;34m\u001b[0m\u001b[0;34m\u001b[0m\u001b[0m\n\u001b[0m\u001b[1;32m    196\u001b[0m \u001b[0;34m\u001b[0m\u001b[0m\n\u001b[1;32m    197\u001b[0m         \u001b[0;32mreturn\u001b[0m \u001b[0mestimates\u001b[0m\u001b[0;34m,\u001b[0m \u001b[0mmargins\u001b[0m\u001b[0;34m\u001b[0m\u001b[0;34m\u001b[0m\u001b[0m\n",
      "\u001b[0;32m~/proj/metatab-dev/metapack-dev/publicdata_census/src/publicdata/census/dataframe.py\u001b[0m in \u001b[0;36m<genexpr>\u001b[0;34m(.0)\u001b[0m\n\u001b[1;32m    193\u001b[0m         \u001b[0mestimates\u001b[0m \u001b[0;34m=\u001b[0m \u001b[0msum\u001b[0m\u001b[0;34m(\u001b[0m\u001b[0mcols\u001b[0m\u001b[0;34m)\u001b[0m\u001b[0;34m\u001b[0m\u001b[0;34m\u001b[0m\u001b[0m\n\u001b[1;32m    194\u001b[0m \u001b[0;34m\u001b[0m\u001b[0m\n\u001b[0;32m--> 195\u001b[0;31m         \u001b[0mmargins\u001b[0m \u001b[0;34m=\u001b[0m \u001b[0mnp\u001b[0m\u001b[0;34m.\u001b[0m\u001b[0msqrt\u001b[0m\u001b[0;34m(\u001b[0m\u001b[0msum\u001b[0m\u001b[0;34m(\u001b[0m\u001b[0mc\u001b[0m\u001b[0;34m.\u001b[0m\u001b[0mm90\u001b[0m \u001b[0;34m**\u001b[0m \u001b[0;36m2\u001b[0m \u001b[0;32mfor\u001b[0m \u001b[0mc\u001b[0m \u001b[0;32min\u001b[0m \u001b[0mcols\u001b[0m\u001b[0;34m)\u001b[0m\u001b[0;34m)\u001b[0m\u001b[0;34m\u001b[0m\u001b[0;34m\u001b[0m\u001b[0m\n\u001b[0m\u001b[1;32m    196\u001b[0m \u001b[0;34m\u001b[0m\u001b[0m\n\u001b[1;32m    197\u001b[0m         \u001b[0;32mreturn\u001b[0m \u001b[0mestimates\u001b[0m\u001b[0;34m,\u001b[0m \u001b[0mmargins\u001b[0m\u001b[0;34m\u001b[0m\u001b[0;34m\u001b[0m\u001b[0m\n",
      "\u001b[0;32m~/opt/anaconda3/envs/data/lib/python3.7/site-packages/pandas/core/generic.py\u001b[0m in \u001b[0;36m__getattr__\u001b[0;34m(self, name)\u001b[0m\n\u001b[1;32m   5128\u001b[0m             \u001b[0;32mif\u001b[0m \u001b[0mself\u001b[0m\u001b[0;34m.\u001b[0m\u001b[0m_info_axis\u001b[0m\u001b[0;34m.\u001b[0m\u001b[0m_can_hold_identifiers_and_holds_name\u001b[0m\u001b[0;34m(\u001b[0m\u001b[0mname\u001b[0m\u001b[0;34m)\u001b[0m\u001b[0;34m:\u001b[0m\u001b[0;34m\u001b[0m\u001b[0;34m\u001b[0m\u001b[0m\n\u001b[1;32m   5129\u001b[0m                 \u001b[0;32mreturn\u001b[0m \u001b[0mself\u001b[0m\u001b[0;34m[\u001b[0m\u001b[0mname\u001b[0m\u001b[0;34m]\u001b[0m\u001b[0;34m\u001b[0m\u001b[0;34m\u001b[0m\u001b[0m\n\u001b[0;32m-> 5130\u001b[0;31m             \u001b[0;32mreturn\u001b[0m \u001b[0mobject\u001b[0m\u001b[0;34m.\u001b[0m\u001b[0m__getattribute__\u001b[0m\u001b[0;34m(\u001b[0m\u001b[0mself\u001b[0m\u001b[0;34m,\u001b[0m \u001b[0mname\u001b[0m\u001b[0;34m)\u001b[0m\u001b[0;34m\u001b[0m\u001b[0;34m\u001b[0m\u001b[0m\n\u001b[0m\u001b[1;32m   5131\u001b[0m \u001b[0;34m\u001b[0m\u001b[0m\n\u001b[1;32m   5132\u001b[0m     \u001b[0;32mdef\u001b[0m \u001b[0m__setattr__\u001b[0m\u001b[0;34m(\u001b[0m\u001b[0mself\u001b[0m\u001b[0;34m,\u001b[0m \u001b[0mname\u001b[0m\u001b[0;34m:\u001b[0m \u001b[0mstr\u001b[0m\u001b[0;34m,\u001b[0m \u001b[0mvalue\u001b[0m\u001b[0;34m)\u001b[0m \u001b[0;34m->\u001b[0m \u001b[0;32mNone\u001b[0m\u001b[0;34m:\u001b[0m\u001b[0;34m\u001b[0m\u001b[0;34m\u001b[0m\u001b[0m\n",
      "\u001b[0;32m~/proj/metatab-dev/metapack-dev/publicdata_census/src/publicdata/census/series.py\u001b[0m in \u001b[0;36mm90\u001b[0;34m(self)\u001b[0m\n\u001b[1;32m     59\u001b[0m             \u001b[0;32mreturn\u001b[0m \u001b[0mself\u001b[0m\u001b[0;34m\u001b[0m\u001b[0;34m\u001b[0m\u001b[0m\n\u001b[1;32m     60\u001b[0m         \u001b[0;32melse\u001b[0m\u001b[0;34m:\u001b[0m\u001b[0;34m\u001b[0m\u001b[0;34m\u001b[0m\u001b[0m\n\u001b[0;32m---> 61\u001b[0;31m             \u001b[0;32mreturn\u001b[0m \u001b[0mself\u001b[0m\u001b[0;34m.\u001b[0m\u001b[0mparent_frame\u001b[0m\u001b[0;34m[\u001b[0m\u001b[0mself\u001b[0m\u001b[0;34m.\u001b[0m\u001b[0mcensus_code\u001b[0m\u001b[0;34m+\u001b[0m\u001b[0;34m'_m90'\u001b[0m\u001b[0;34m]\u001b[0m\u001b[0;34m.\u001b[0m\u001b[0mastype\u001b[0m\u001b[0;34m(\u001b[0m\u001b[0;34m'float'\u001b[0m\u001b[0;34m)\u001b[0m\u001b[0;34m\u001b[0m\u001b[0;34m\u001b[0m\u001b[0m\n\u001b[0m\u001b[1;32m     62\u001b[0m \u001b[0;34m\u001b[0m\u001b[0m\n\u001b[1;32m     63\u001b[0m     \u001b[0;34m@\u001b[0m\u001b[0mproperty\u001b[0m\u001b[0;34m\u001b[0m\u001b[0;34m\u001b[0m\u001b[0m\n",
      "\u001b[0;32m~/opt/anaconda3/envs/data/lib/python3.7/site-packages/pandas/core/generic.py\u001b[0m in \u001b[0;36m__getattr__\u001b[0;34m(self, name)\u001b[0m\n\u001b[1;32m   5124\u001b[0m             \u001b[0;32mor\u001b[0m \u001b[0mname\u001b[0m \u001b[0;32min\u001b[0m \u001b[0mself\u001b[0m\u001b[0;34m.\u001b[0m\u001b[0m_accessors\u001b[0m\u001b[0;34m\u001b[0m\u001b[0;34m\u001b[0m\u001b[0m\n\u001b[1;32m   5125\u001b[0m         ):\n\u001b[0;32m-> 5126\u001b[0;31m             \u001b[0;32mreturn\u001b[0m \u001b[0mobject\u001b[0m\u001b[0;34m.\u001b[0m\u001b[0m__getattribute__\u001b[0m\u001b[0;34m(\u001b[0m\u001b[0mself\u001b[0m\u001b[0;34m,\u001b[0m \u001b[0mname\u001b[0m\u001b[0;34m)\u001b[0m\u001b[0;34m\u001b[0m\u001b[0;34m\u001b[0m\u001b[0m\n\u001b[0m\u001b[1;32m   5127\u001b[0m         \u001b[0;32melse\u001b[0m\u001b[0;34m:\u001b[0m\u001b[0;34m\u001b[0m\u001b[0;34m\u001b[0m\u001b[0m\n\u001b[1;32m   5128\u001b[0m             \u001b[0;32mif\u001b[0m \u001b[0mself\u001b[0m\u001b[0;34m.\u001b[0m\u001b[0m_info_axis\u001b[0m\u001b[0;34m.\u001b[0m\u001b[0m_can_hold_identifiers_and_holds_name\u001b[0m\u001b[0;34m(\u001b[0m\u001b[0mname\u001b[0m\u001b[0;34m)\u001b[0m\u001b[0;34m:\u001b[0m\u001b[0;34m\u001b[0m\u001b[0;34m\u001b[0m\u001b[0m\n",
      "\u001b[0;31mAttributeError\u001b[0m: 'CensusSeries' object has no attribute 'parent_frame'"
     ]
    }
   ],
   "source": [
    "B02001['white_asian'], B02001['white_asian_m90'] = B02001.sum_m('b02001_002', 'b02001_005')\n",
    "B02001['minority'] = B02001.B02001_001 - B02001.white_asian\n",
    "B02001['non_min_r'], B02001['non_min_r_m90'] = B02001.ratio('white_asian', 'b02001_001')"
   ]
  },
  {
   "cell_type": "markdown",
   "metadata": {},
   "source": [
    "For the loan data, let's drop all of the records that are nulls, select only tract records,  and select only the year 2015. "
   ]
  },
  {
   "cell_type": "code",
   "execution_count": null,
   "metadata": {},
   "outputs": [],
   "source": [
    "loans_pkg = mp.open_package('metapack+http://library.metatab.org/ffiec.gov-cra_aggregate_smb-orig-4.csv#sb_agg_loan_orig')\n",
    "loans_r = loans_pkg.default_resource\n",
    "loans = loans_r.read_csv()\n",
    "\n",
    "loans = loans.dropna(subset=['geoid']).dropna(subset=['tract']).set_index('geoid')\n",
    "\n",
    "# Note! Only one Year!\n",
    "loans = loans[loans.year == 2015]\n"
   ]
  },
  {
   "cell_type": "code",
   "execution_count": null,
   "metadata": {},
   "outputs": [],
   "source": [
    "loans_r"
   ]
  },
  {
   "cell_type": "markdown",
   "metadata": {},
   "source": [
    "Next, we can join the ACS, geographic, and loans dataframes. Previously, they were all given ``geoid`` for an index, so joining them is easy. Once they are joined, we can create some summary and derived columns. Note that the geographic dataset is joined first. This is important, because it means that the final ``df`` will also be a geographic dataframe. "
   ]
  },
  {
   "cell_type": "code",
   "execution_count": null,
   "metadata": {},
   "outputs": [],
   "source": [
    "df = B02001g[['geometry']].join(B02001[['non_min_r']]).join(loans)\n",
    "\n",
    "df['number_loans'] = df.number_lt100 + df.number_100_250 + df.number_250_1m\n",
    "df['total_value'] = df.total_lt100 + df.total_100_250 + df.total_250_1m\n",
    "df['mean_value'] = df.total_value + df.number_loans\n",
    "df['loans_per_pop'] = df.number_loans / B02001.B02001001\n",
    "df['loans_per_min'] = df.number_loans / B02001.minority\n",
    "df['loan_val_per_pop'] = df.total_value / B02001.B02001001\n",
    "df['loan_val_per_min'] = df.total_value / B02001.minority"
   ]
  },
  {
   "cell_type": "code",
   "execution_count": null,
   "metadata": {
    "run_control": {
     "marked": false
    }
   },
   "outputs": [],
   "source": [
    "df.head(3).T"
   ]
  },
  {
   "cell_type": "markdown",
   "metadata": {},
   "source": [
    "# Creating Maps\n",
    "\n",
    "\n",
    "Just as ``Metapack`` and the  ``publicdata`` module worked together to turn the dataset references by the ``censusreporter:`` reference into a special Census data frame, the ``censusreportergeo:`` reference returns a Geopandas dataframe. Geopandas has a built in support for geographic operations, such as creating maps. For instance:"
   ]
  },
  {
   "cell_type": "code",
   "execution_count": null,
   "metadata": {},
   "outputs": [],
   "source": [
    "# Create the matplotlib figure and a single axis, and set the figure size\n",
    "# to 12 inches wide, with the same aspect ratio as the geographic dataframe. This\n",
    "# keeps the map from looking distored. \n",
    "from sdipylib.geo import aspect_fig_size\n",
    "fig, ax = aspect_fig_size(df, 12) \n",
    "\n",
    "_ = df.dropna(subset=['non_min_r'])\n",
    "\n",
    "_.plot(ax=ax, column='non_min_r', cmap='RdYlGn',scheme='fisher_jenks', legend=True);"
   ]
  },
  {
   "cell_type": "code",
   "execution_count": null,
   "metadata": {},
   "outputs": [],
   "source": [
    "from sdipylib.geo import aspect \n",
    "\n",
    "\n",
    "\n",
    "_lpp = df.replace([np.inf, -np.inf], np.nan).dropna(subset=['loans_per_pop'])\\\n",
    "    .sort_values('loans_per_pop', ascending=False).iloc[:50]\n",
    "\n",
    "_mv = df.dropna(subset=['mean_value']).sort_values('mean_value', ascending=False).iloc[:50]\n",
    "\n",
    "# In this case, with multiple axes per figure, setting the aspect ratio is more manual\n",
    "w = 6\n",
    "a = max(aspect(_mv),aspect(_lpp))\n",
    "fig = plt.figure(figsize = (2*w, 2*(w/a)))\n",
    "\n",
    "# Doing ax2 first because it has the longer y axis, and want both plots to have the same\n",
    "# y axis\n",
    "ax2= fig.add_subplot(2,2,2)\n",
    "\n",
    "_lpp.plot(ax=ax2, column='loans_per_pop', cmap='RdYlGn',scheme='fisher_jenks', legend=True)\n",
    "ax2.set_title(\"Top 50 Tracts By # Loans Per Population\")\n",
    "\n",
    "# subplot(nrows, ncols, plot_number)\n",
    "ax1= fig.add_subplot(2,2,1, sharey=ax2)\n",
    "\n",
    "_mv.plot(ax=ax1, column='mean_value', cmap='RdYlGn',scheme='fisher_jenks', legend=True)\n",
    "ax1.set_title(\"Top 50 Tracts By Mean Loan Value\")\n",
    "\n",
    "ax3= fig.add_subplot(2,2,3, sharey=ax2)\n",
    "_ = df.replace([np.inf, -np.inf], np.nan).dropna(subset=['loan_val_per_pop'])\n",
    "_ = _[_.loan_val_per_pop>3]\n",
    "_.plot(ax=ax3, column='loan_val_per_pop', cmap='RdYlGn',scheme='fisher_jenks', legend=True)\n",
    "ax3.set_title(\"Tracts with > $3 Loan Value Per Pop\")\n",
    "\n",
    "ax4= fig.add_subplot(2,2,4, sharey=ax2)\n",
    "_ = df.replace([np.inf, -np.inf], np.nan).dropna(subset=['loan_val_per_min'])\n",
    "_ = _[_.loan_val_per_min>24]\n",
    "_.plot(ax=ax4, column='loan_val_per_min', cmap='RdYlGn',scheme='fisher_jenks', legend=True)\n",
    "ax4.set_title(\"Tracts with > $24 Loan Value Per Minority\");"
   ]
  },
  {
   "cell_type": "markdown",
   "metadata": {},
   "source": [
    "# Focus on Minority Areas with Radius Searches\n",
    "\n",
    "Next, we'll locate an area with a high portion of minorities and focus on the nearby area. By sorting on the ``non_min_r`` ( Non-minority ratio ) and selecting the bottom 20 values, we can union the tracts, find the center, and then use that as the center for a minority cluster. \n",
    "\n",
    "Using Geopandas, we can use plot the bottom 20 tracts to get a quick view of the area. "
   ]
  },
  {
   "cell_type": "code",
   "execution_count": null,
   "metadata": {},
   "outputs": [],
   "source": [
    "# Find the top 30 highest minority areas and plot as a seperate set. They are fairly \n",
    "# geographically clustered\n",
    "_ = df.sort_values('non_min_r').iloc[:20]\n",
    "_.plot()\n"
   ]
  },
  {
   "cell_type": "markdown",
   "metadata": {},
   "source": [
    "Next, compute the distance from the minority center to the centroid of all other tracts. We'll use this value to constrain the radius search. The resulting distances are in meters. "
   ]
  },
  {
   "cell_type": "code",
   "execution_count": null,
   "metadata": {},
   "outputs": [],
   "source": [
    "# Get the center point of the high-minority areas. The unary_union is required\n",
    "# because the subsequence operations work on individual shapes, so we have to join the shapes first. \n",
    "minority_center = df.sort_values('non_min_r').iloc[:20].unary_union.convex_hull.centroid\n",
    "\n",
    "#\n",
    "# Then compute the distance of each other the remaining tracts to \n",
    "# the high minority centroid. \n",
    "df['minr_dist_deg'] = df.geometry.distance(minority_center)\n",
    "\n",
    "import pyproj\n",
    "from functools import partial\n",
    "\n",
    "geod = pyproj.Geod(ellps='WGS84')\n",
    "def geodetic_dist(point1, region2):\n",
    "    \"\"\"Returns the distance between a point and the centroid of a region in meters\"\"\"\n",
    "    point2 = region2.centroid\n",
    "    angle1,angle2,distance = geod.inv(point1.x, point1.y, point2.x, point2.y)\n",
    "    return distance\n",
    "\n",
    "# Note that this distance will tend to exclude large tracts, because the centroids are relatively farther away. \n",
    "df['minr_dist_m'] =df.geometry.apply(partial(geodetic_dist, minority_center))\n",
    "\n"
   ]
  },
  {
   "cell_type": "markdown",
   "metadata": {},
   "source": [
    "Then, we just need to constrain the ``minr_dist_m`` to get our cluster. "
   ]
  },
  {
   "cell_type": "code",
   "execution_count": null,
   "metadata": {},
   "outputs": [],
   "source": [
    "min_areas = df[ df.minr_dist_m < 7000].dropna(subset=['non_min_r'])\n",
    "min_areas = min_areas.dropna(subset=['non_min_r'])"
   ]
  },
  {
   "cell_type": "markdown",
   "metadata": {},
   "source": [
    "Ploting is easy, as before, but this time we'll also add a large blue dot to marl the location of the centroid. "
   ]
  },
  {
   "cell_type": "code",
   "execution_count": null,
   "metadata": {},
   "outputs": [],
   "source": [
    "fig, ax = aspect_fig_size(min_areas, 15)\n",
    "\n",
    "min_areas.plot(ax=ax, column='non_min_r', cmap='RdYlGn',scheme='fisher_jenks', legend=True)\n",
    "\n",
    "\n",
    "# Plot the minority centroid point, with a bit of a buffer to make it larger\n",
    "import descartes \n",
    "circle = minority_center.buffer(.002)\n",
    "ax.add_patch(descartes.PolygonPatch(circle, fc='blue', alpha=0.5));"
   ]
  },
  {
   "cell_type": "markdown",
   "metadata": {},
   "source": [
    "And, of course, it is easier to visualize where this cluster is when it is laid over a street map. "
   ]
  },
  {
   "cell_type": "code",
   "execution_count": null,
   "metadata": {},
   "outputs": [],
   "source": [
    "folium_map(min_areas,'non_min_r')"
   ]
  },
  {
   "cell_type": "code",
   "execution_count": null,
   "metadata": {},
   "outputs": [],
   "source": []
  }
 ],
 "metadata": {
  "celltoolbar": "Tags",
  "kernelspec": {
   "display_name": "Python 3",
   "language": "python",
   "name": "python3"
  },
  "language_info": {
   "codemirror_mode": {
    "name": "ipython",
    "version": 3
   },
   "file_extension": ".py",
   "mimetype": "text/x-python",
   "name": "python",
   "nbconvert_exporter": "python",
   "pygments_lexer": "ipython3",
   "version": "3.7.6"
  },
  "varInspector": {
   "cols": {
    "lenName": 16,
    "lenType": 16,
    "lenVar": 40
   },
   "kernels_config": {
    "python": {
     "delete_cmd_postfix": "",
     "delete_cmd_prefix": "del ",
     "library": "var_list.py",
     "varRefreshCmd": "print(var_dic_list())"
    },
    "r": {
     "delete_cmd_postfix": ") ",
     "delete_cmd_prefix": "rm(",
     "library": "var_list.r",
     "varRefreshCmd": "cat(var_dic_list()) "
    }
   },
   "types_to_exclude": [
    "module",
    "function",
    "builtin_function_or_method",
    "instance",
    "_Feature"
   ],
   "window_display": false
  }
 },
 "nbformat": 4,
 "nbformat_minor": 4
}
